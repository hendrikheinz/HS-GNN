{
  "cells": [
    {
      "cell_type": "code",
      "execution_count": null,
      "metadata": {
        "id": "U7d0Ucyi4Yr_"
      },
      "outputs": [],
      "source": [
        "import numpy as np\n",
        "import pandas as pd\n",
        "import sklearn\n",
        "from sklearn.model_selection import train_test_split\n",
        "import xgboost as xgb\n",
        "from sklearn.metrics import accuracy_score\n",
        "import matplotlib.pyplot as plt\n"
      ]
    },
    {
      "cell_type": "code",
      "execution_count": null,
      "metadata": {
        "id": "y7ZZiKSw5BBT"
      },
      "outputs": [],
      "source": [
        "def are(y_true, y_pred):\n",
        "    return np.mean(np.abs(y_true - y_pred) / y_true)\n",
        "\n",
        "def msre(y_true, y_pred):\n",
        "    return np.mean(((y_true - y_pred) / y_true) ** 2)\n",
        "\n",
        "def rmrse(y_true, y_pred):\n",
        "    return np.sqrt(msre(y_true, y_pred))\n",
        "\n",
        "def myeval(y_true, y_pred):\n",
        "    return are(y_true, y_pred), rmrse(y_true, y_pred)\n"
      ]
    },
    {
      "cell_type": "markdown",
      "metadata": {
        "id": "ZPiK7eRG7soO"
      },
      "source": [
        "## Preprocessing"
      ]
    },
    {
      "cell_type": "code",
      "execution_count": null,
      "metadata": {
        "id": "AoUdfzpe7v-3"
      },
      "outputs": [],
      "source": [
        "##########################################################\n",
        "# Change the file path below before running this code cell.\n",
        "##########################################################\n",
        "\n",
        "file = r\"provide/path/to/CNT_bundle_global_features.xlsx\"\n",
        "df = pd.read_excel(file)\n",
        "end = df.columns.get_loc('Elastic Modulus (GPa)')\n",
        "df = df.iloc[:,:end+1] # Split features and targets\n",
        "\n",
        "df = df.dropna()\n",
        "df = df[df['# of Atoms'] <= 20000] # Large models have # of Atoms > 20,000.\n",
        "\n",
        "df_feats = df.iloc[:,:-2].drop(columns=[\"File name\", \"Initial Dia (Ang.)\", \"File #\", \"Strain at Break\", \"1/2 Stress (GPa)\", \"1/2 Strain\"])\n",
        "df_targets = df.iloc[:,-2:]\n",
        "\n",
        "feats = df_feats.to_numpy()\n",
        "targets = df_targets.to_numpy()"
      ]
    },
    {
      "cell_type": "code",
      "execution_count": 10,
      "metadata": {
        "id": "w1VJTM9MAYfZ"
      },
      "outputs": [],
      "source": [
        "strength = targets[:,0]\n",
        "modulus = targets[:,1]"
      ]
    },
    {
      "cell_type": "markdown",
      "metadata": {
        "id": "q4VqNvWwBTS3"
      },
      "source": [
        "## Training"
      ]
    },
    {
      "cell_type": "code",
      "execution_count": 13,
      "metadata": {
        "colab": {
          "base_uri": "https://localhost:8080/"
        },
        "id": "mn-TovBUBVWn",
        "outputId": "5c4bdc71-6d07-4abb-b2aa-ed336ef8ca6f"
      },
      "outputs": [
        {
          "data": {
            "text/plain": [
              "({'s_0.9': [0.05152480653394502, 0.022148542558623512]},\n",
              " {'m_0.9': [0.06307685632118651, 0.01314471448124323]})"
            ]
          },
          "execution_count": 13,
          "metadata": {},
          "output_type": "execute_result"
        }
      ],
      "source": [
        "sregressor=xgb.XGBRegressor(learning_rate = 0.015,\n",
        "                            n_estimators  = 700,\n",
        "                            max_depth     = 5)\n",
        "\n",
        "mregressor = xgb.XGBRegressor(learning_rate = 0.015,\n",
        "                            n_estimators  = 700,\n",
        "                            max_depth     = 5)\n",
        "\n",
        "\n",
        "train_sizes = [0.9]\n",
        "\n",
        "sresults = {}\n",
        "mresults= {}\n",
        "\n",
        "for size in enumerate(train_sizes):\n",
        "\n",
        "  s_pred_ares = []\n",
        "  m_pred_ares = []\n",
        "\n",
        "  for exp in range(5):\n",
        "\n",
        "    state = size[0]+exp*exp\n",
        "\n",
        "    sxtrain, sxtest, sytrain, sytest = train_test_split(feats, strength, random_state=state, train_size=size[1])\n",
        "    mxtrain, mxtest, mytrain, mytest = train_test_split(feats, modulus, random_state=state, train_size=size[1])\n",
        "\n",
        "\n",
        "    sregressor.fit(sxtrain, sytrain, verbose=False)\n",
        "    mregressor.fit(mxtrain, mytrain, verbose=False)\n",
        "\n",
        "    test_spred = sregressor.predict(sxtest[:round(len(feats)*0.25)])\n",
        "    test_mpred = mregressor.predict(mxtest[:round(len(feats)*0.25)])\n",
        "\n",
        "    stare, strmrse = myeval(sytest[:round(len(feats)*0.25)], test_spred)\n",
        "    mtare, mtrmrse = myeval(mytest[:round(len(feats)*0.25)], test_mpred)\n",
        "\n",
        "    s_pred_ares.append(stare)\n",
        "    m_pred_ares.append(mtare)\n",
        "\n",
        "  sresults['s_'+str(size[1])] = [np.mean(s_pred_ares),np.std(s_pred_ares)]\n",
        "  mresults['m_'+str(size[1])] = [np.mean(m_pred_ares),np.std(m_pred_ares)]\n",
        "\n",
        "sresults, mresults\n",
        "\n"
      ]
    },
    {
      "cell_type": "markdown",
      "metadata": {},
      "source": [
        "## Usable from command line (if proper preprocessing was performed)"
      ]
    },
    {
      "cell_type": "code",
      "execution_count": null,
      "metadata": {
        "id": "7AhmhIXT7E_u"
      },
      "outputs": [],
      "source": [
        "if __name__ == '__main__':\n",
        "\n",
        "    pt = 's'\n",
        "    mapping = {'s': 0, 'm': 1}\n",
        "\n",
        "    feats = np.load('glb_feats.npy')\n",
        "    targets = np.load('all_targets.npy')[:, mapping[pt]]\n",
        "\n",
        "    index = np.load('newidx.npy')\n",
        "    large_idx = np.load('lrg_test_idx.npy')\n",
        "\n",
        "    num_test = int(0.1 * len(index))\n",
        "\n",
        "    results = []\n",
        "    for cf in range(10):\n",
        "        test_idx = index[cf*num_test : (cf+1)*num_test]\n",
        "        other_idx = np.append(index[(cf+1)*num_test:], index[:num_test])\n",
        "\n",
        "        valid_idx = other_idx[:num_test]\n",
        "        train_idx = other_idx[num_test:]\n",
        "\n",
        "        valid_set = (feats[valid_idx], targets[valid_idx])\n",
        "        train_set = (feats[train_idx], targets[train_idx])\n",
        "\n",
        "        foldresult = []\n",
        "\n",
        "        for exp in range(5):\n",
        "\n",
        "            regressor=xgb.XGBRegressor(learning_rate = 0.015,\n",
        "                                       n_estimators  = 700,\n",
        "                                       max_depth     = 5)\n",
        "\n",
        "            regressor.fit(feats[train_idx], targets[train_idx], eval_metric='rmsle',\n",
        "                          eval_set=[train_set, valid_set], early_stopping_rounds=20, verbose=False)\n",
        "\n",
        "            test_pred = regressor.predict(feats[test_idx])\n",
        "\n",
        "            tare, trmrse = eval(targets[test_idx], test_pred)\n",
        "\n",
        "            test_large = regressor.predict(feats[large_idx])\n",
        "\n",
        "            lare, lrmrse = eval(targets[large_idx], test_large)\n",
        "\n",
        "            foldresult.append([tare, trmrse, lare, lrmrse])\n",
        "\n",
        "        tare, trmrse, lare, lrmrse = np.mean(foldresult, 0)\n",
        "\n",
        "        print('Fold {:d} | Test ARE {:.2f} | Test RMRSE {:.2f} | Large ARE {:.2f}| Large RMRSE {:.2f}'.format(cf, tare*100, trmrse*100, lare*100, lrmrse*100))\n",
        "\n",
        "        results.append(foldresult)\n",
        "\n",
        "    results = np.array(results)\n",
        "\n",
        "    print(np.mean(results.mean(0)), 0)\n",
        "    print(np.var(results.reshape(-1, 4)), 0)\n",
        "\n",
        "    np.save(pt+'result/xgb_valid.npy', results)"
      ]
    }
  ],
  "metadata": {
    "colab": {
      "provenance": []
    },
    "kernelspec": {
      "display_name": "Python 3",
      "name": "python3"
    },
    "language_info": {
      "name": "python"
    }
  },
  "nbformat": 4,
  "nbformat_minor": 0
}
