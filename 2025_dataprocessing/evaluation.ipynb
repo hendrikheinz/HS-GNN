{
 "cells": [
  {
   "cell_type": "code",
   "execution_count": null,
   "metadata": {},
   "outputs": [],
   "source": [
    "import copy\n",
    "import os.path\n",
    "import random\n",
    "import dgl\n",
    "import numpy as np\n",
    "import torch\n",
    "from arguments import paser\n",
    "from utilities import *\n",
    "\n",
    "from model import HSGNN"
   ]
  }
 ],
 "metadata": {
  "kernelspec": {
   "display_name": "Python 3",
   "language": "python",
   "name": "python3"
  },
  "language_info": {
   "name": "python",
   "version": "3.8.10"
  }
 },
 "nbformat": 4,
 "nbformat_minor": 2
}
